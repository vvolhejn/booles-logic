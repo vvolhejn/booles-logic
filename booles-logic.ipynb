{
 "cells": [
  {
   "cell_type": "markdown",
   "id": "disabled-acrylic",
   "metadata": {},
   "source": [
    "# Boole, Arithmetic and Python Syllogisms"
   ]
  },
  {
   "cell_type": "markdown",
   "id": "confident-basic",
   "metadata": {},
   "source": [
    "The goal of this work is to understand how exactly Boole, in his _Mathematical Analysis of Logic_,  uses standard arithmetic to do his bidding and avoid the rough edges that arise when the analogies are stretched to their limits.\n",
    "The findings are subsequently used to express the system in code and use it to solve syllogisms.\n",
    "\n",
    "## Introduction\n",
    "\n",
    "The variables in the algebra are the so-called _elective symbols_, which denote the operation of selecting from a universe of individuals (denoted $1$) those that satisfy some property. In the abstract formulation, the elective symbol $x$ is taken to select individuals that \"are Xs\"."
   ]
  },
  {
   "cell_type": "code",
   "execution_count": 1,
   "id": "boring-health",
   "metadata": {},
   "outputs": [],
   "source": [
    "# An elective symbol is just a name - it has no further properties.\n",
    "Symbol = str"
   ]
  },
  {
   "cell_type": "markdown",
   "id": "green-light",
   "metadata": {},
   "source": [
    "Conjunction is denoted by multiplication, so $xy$ selects individuals that are both Xs and Ys.\n",
    "Expressions like this one formed from elective symbols are called _elective functions_."
   ]
  },
  {
   "cell_type": "code",
   "execution_count": 2,
   "id": "crucial-access",
   "metadata": {},
   "outputs": [
    {
     "name": "stdout",
     "output_type": "stream",
     "text": [
      "To select all Xs: x\n",
      "To select those that are Xs and Ys simultaneously: xy\n"
     ]
    }
   ],
   "source": [
    "from typing import List, Dict\n",
    "\n",
    "# A mapping like {\"x\": 0, \"y\": 1} assigning the elective symbols' values.\n",
    "# The evaluation will be used later.\n",
    "SymbolValues = Dict[Symbol, int]\n",
    "\n",
    "# (Elective) functions\n",
    "class Function:\n",
    "    # The string representation of the function\n",
    "    def __repr__(self):\n",
    "        raise NotImplemented\n",
    "\n",
    "    # Returns the value of the function given the symbols' values.\n",
    "    def __call__(self, values: SymbolValues):\n",
    "        raise NotImplemented\n",
    "\n",
    "        \n",
    "class SymbolFunction(Function):\n",
    "    def __init__(self, symbol: Symbol):\n",
    "        self.symbol = symbol\n",
    "    \n",
    "    def __repr__(self):\n",
    "        return f\"{self.symbol}\"\n",
    "    \n",
    "    def __call__(self, values: SymbolValues):\n",
    "        return values[self.symbol]\n",
    "\n",
    "\n",
    "class MultiplicationFunction(Function):\n",
    "    def __init__(self, left: Function, right: Function):\n",
    "        self.left = left\n",
    "        self.right = right\n",
    "    \n",
    "    def __repr__(self):\n",
    "        return f\"{self.left}{self.right}\"\n",
    "\n",
    "    def __call__(self, values: SymbolValues):\n",
    "        return self.left(values) * self.right(values)\n",
    "    \n",
    "xs = SymbolFunction(\"x\")\n",
    "both_xs_and_ys = MultiplicationFunction(SymbolFunction(\"x\"), SymbolFunction(\"y\"))\n",
    "\n",
    "print(\"To select all Xs:\", xs)\n",
    "print(\"To select those that are Xs and Ys simultaneously:\", both_xs_and_ys)"
   ]
  },
  {
   "cell_type": "markdown",
   "id": "challenging-startup",
   "metadata": {},
   "source": [
    "<!-- Elective symbols differ from variables in arithmetic by satisfying an innocent-looking property, the _index law_:\n",
    "$\n",
    "x^n = x.\n",
    "$\n",
    "Semantically, this means that $xx$, i.e. selecting all Xs and from those again selecting all Xs, is the same as $x$, meaning just selecting all Xs.\n",
    " -->\n",
    "Boole also introduces the negation of $x$: it is denoted by $1-x$ and means \"take all individuals in the universe except those that are Xs\" or \"not Xs\" for short.\n",
    "Recall that the universe is denoted by $1$ and so we could interpret the minus sign as a set or class difference.\n",
    "However, Boole does not define negation this way, $1-x$ is understood rather as a unary operation on $x$, which is reflected in the code:"
   ]
  },
  {
   "cell_type": "code",
   "execution_count": 3,
   "id": "soviet-brave",
   "metadata": {},
   "outputs": [
    {
     "name": "stdout",
     "output_type": "stream",
     "text": [
      "To select all Xs that are not Ys: x(1-y)\n"
     ]
    }
   ],
   "source": [
    "class NegationFunction(Function):\n",
    "    def __init__(self, body: Function):\n",
    "        self.body = body\n",
    "    \n",
    "    def __repr__(self):\n",
    "        return f\"(1-{self.body})\"\n",
    "\n",
    "    def __call__(self, values: SymbolValues):\n",
    "        return 1 - self.body(values)\n",
    "\n",
    "\n",
    "xs_and_not_ys = MultiplicationFunction(\n",
    "    SymbolFunction(\"x\"),\n",
    "    NegationFunction(SymbolFunction(\"y\")),\n",
    ")\n",
    "print(\"To select all Xs that are not Ys:\", xs_and_not_ys)"
   ]
  },
  {
   "cell_type": "markdown",
   "id": "rural-bhutan",
   "metadata": {},
   "source": [
    "With what was introduced so far, we have a \"querying system\" capable of selecting individuals with certain properties.\n",
    "From a modern perspective, note that negation and conjunction together form a functionally complete set of logical connectives, meaning all other operators such as disjunction or implication can be expressed using these two.\n",
    "<!-- This means, importantly, that the system would not become more expressive if we were to somehow incorporate more operators. -->\n",
    "\n",
    "## Elective equations and 1+1=1\n",
    "\n",
    "Some difficulties arise at the level of _elective equations_, \"equations of which the members are elective functions\" (p. 16).\n",
    "With their introduction, we move from a querying system to a system capable of expressing propositions such as \"All Xs are Ys\".\n",
    "This example is introduced by Boole on p. 21, where he expresses the proposition as $xy = x$.\n",
    "\n",
    "He then directly proceeds to rewrite the equation to $x(1-y) = 0$.\n",
    "This understated rewriting step is actually a large leap: we have applied arithmetic rewriting to an elective equation, which was before this point been viewed just as a sequence of symbols with no connection to arithmetic.\n",
    "\n",
    "Boole's justification is that \"all the processes of common algebra are applicable to the present system\" (p. 18) because elective symbols are commutative and distributive.\n",
    "We will put aside the issue that this justification is probably unsufficient, e.g. because we have not defined minus as a binary operation.\n",
    "Instead, we focus on the mentioned distributive property.\n",
    "The property is expressed as $x(u + v) = xu + xv$, with the specification of \"$u+v$ representing the undivided subject, and $u$ and $v$ the component parts of it\" (p. 17).\n",
    "\n",
    "This is the first appearance of the plus sign in the text.\n",
    "It is tempting to think that it denotes disjunction, but the situation is more complicated.\n",
    "For if $+$ were simply disjunction, we would have $1+1=1$: true in Boole's logic but obviously not in arithmetic.\n",
    "Rather, addition only works as disjunction when the classes are disjoint, meaning that for $u+v$ to be meaningful, $uv=0$ must hold.\n",
    "This is what is meant by $u$ and $v$ being \"component parts\".\n",
    "\n",
    "Yet the plus sign appears in many places throughout the text and problems of this kind are never encountered.\n",
    "How so? How does Boole avoid constructing elective functions and equations that are invalid in this way while freely applying arithmetic manipulations to the equations?\n",
    "\n",
    "The solution can be found in the above discussion on negation and conjunction being functionally complete.\n",
    "The conjunction $xy$ and the negation $1-x$ impose no restrictions on $x$ and $y$, unlike $x+y$.\n",
    "If we want to express disjunction while avoiding $+$, we can use the identity\n",
    "$x \\lor y = \\lnot (\\lnot x \\land \\lnot y)$:"
   ]
  },
  {
   "cell_type": "code",
   "execution_count": 4,
   "id": "suffering-hungary",
   "metadata": {},
   "outputs": [
    {
     "name": "stdout",
     "output_type": "stream",
     "text": [
      "Disjunction on not necessarily exclusive classes: (1-(1-x)(1-y))\n"
     ]
    }
   ],
   "source": [
    "xs_or_ys = NegationFunction(MultiplicationFunction(\n",
    "    NegationFunction(\"x\"),\n",
    "    NegationFunction(\"y\")\n",
    "))\n",
    "print(\"Disjunction on not necessarily exclusive classes:\", xs_or_ys)"
   ]
  },
  {
   "cell_type": "markdown",
   "id": "disturbed-lighter",
   "metadata": {},
   "source": [
    "All other logical operators can be constructed as well.\n",
    "\n",
    "After the intial construction, the equations are \"sent to arithmetic\": they are treated as simply operating on numbers, with the additional assumption of the index law holding for the elective symbols involved.\n",
    "True equations will not become false through manipulations, though they might not be _interpretable_ in Boole's logic.\n",
    "\n",
    "For instance, if $x=1$ holds (in both Boole's logic and arithmetic), then $x+1=2$ will also hold in arithmetic. However, $2$ has no meaning in Boole's logic so we cannot \"go back\" and interpret the equation logically.\n",
    "But in some cases, like when going from $xy=x$ to $x(1-y)=0$, we can interpret the resulting equation too. Recall that $xy=x$ means \"All Xs are Ys\": the second equation then means \"there are no individuals that are Xs and aren't Ys\" where $0$ plays the role of \"no individuals\".\n",
    "\n",
    "Boole's way of using arithmetic in elective equations can be summarized in the following recipe:\n",
    "1. Construct an elective equation in a safe way, using conjunctions and negations.\n",
    "2. Start interpreting the elective equation as an arithmetic equation.\n",
    "3. Manipulate using aritmetic rules.\n",
    "4. If possible, interpret the equation again as an elective one. (This may not always be possible, as in the $x+1=2$ example.)\n",
    "\n",
    "In the rest of the text, we demonstrate a way to apply this recipe programmatically."
   ]
  },
  {
   "cell_type": "markdown",
   "id": "reported-basketball",
   "metadata": {},
   "source": [
    "## Parsing interlude\n",
    "\n",
    "For brevity in the following, a simple expression parser will be helpful.\n",
    "This is really only a technical tool and can safely be skipped when reading."
   ]
  },
  {
   "cell_type": "code",
   "execution_count": 5,
   "id": "worse-matrix",
   "metadata": {},
   "outputs": [],
   "source": [
    "# We could probably do without this, but it is convenient.\n",
    "class ConstantFunction(Function):\n",
    "    def __init__(self, value: int):\n",
    "        self.value = value\n",
    "    \n",
    "    def __repr__(self):\n",
    "        return f\"{self.value}\"\n",
    "    \n",
    "    def __call__(self, values: SymbolValues):\n",
    "        return self.value"
   ]
  },
  {
   "cell_type": "code",
   "execution_count": 6,
   "id": "vulnerable-division",
   "metadata": {},
   "outputs": [
    {
     "name": "stdout",
     "output_type": "stream",
     "text": [
      "x\n",
      "0\n",
      "(1-x)y\n"
     ]
    }
   ],
   "source": [
    "import re\n",
    "\n",
    "def matching_parenthesis(s):\n",
    "    count = 0\n",
    "    for i, c in enumerate(s):\n",
    "        if c == \"(\":\n",
    "            count += 1\n",
    "        elif c == \")\":\n",
    "            count -= 1\n",
    "            if count == 0:\n",
    "                return i\n",
    "\n",
    "def parse(s: str):\n",
    "#     print(\"  \", s)\n",
    "    if len(s) == 1:\n",
    "        match = re.fullmatch(r\"([a-z])\", s)\n",
    "        if match:\n",
    "            return SymbolFunction(match.groups()[0])\n",
    "\n",
    "        match = re.fullmatch(r\"([01])\", s)\n",
    "        if match:\n",
    "            return ConstantFunction(int(match.groups()[0]))\n",
    "        \n",
    "        raise ValueError(f\"Cannot parse {s}\")\n",
    "        \n",
    "    if s[0] == \"(\":\n",
    "        to = matching_parenthesis(s)\n",
    "        assert s[0:3] == \"(1-\"\n",
    "        \n",
    "        inside = parse(s[3:to])\n",
    "        res = NegationFunction(inside)\n",
    "    else:\n",
    "        to = 0\n",
    "        res = parse(s[0:1])\n",
    "    \n",
    "    if to != len(s) - 1:\n",
    "        right = parse(s[to+1:])\n",
    "        res = MultiplicationFunction(res, right)\n",
    "    \n",
    "    return res\n",
    "\n",
    "print(parse(\"x\"))\n",
    "print(parse(\"0\"))\n",
    "print(parse(\"(1-x)y\"))"
   ]
  },
  {
   "cell_type": "markdown",
   "id": "greater-dressing",
   "metadata": {},
   "source": [
    "## Elective equations in code"
   ]
  },
  {
   "cell_type": "markdown",
   "id": "cordless-contrary",
   "metadata": {},
   "source": [
    "The goal now is to put down into code Boole's system of elective equations and applying it to inference in syllogisms.\n",
    "However, manipulating equations programmatically or even automatically solving them is difficult.\n",
    "Luckily, Boole's book itself offers a more mechanical solution in the chapter _Properties of elective functions_.\n",
    "Boole notes that we can represent any elective equation (and thus proposition) of two variables as $\\phi(xy) = 0$ and that this equation in turn can be written as\n",
    "$$\n",
    "\\phi(xy) = \\phi(00)(1-x)(1-y) + \\phi(01)(1-x)y + \\phi(10)x(1-y) + \\phi(11)xy = 0\n",
    "$$\n",
    "(p. 62).\n",
    "Of course, this decomposition generalizes naturally beyond two variables.\n",
    "The terms $\\phi(00), \\phi(01)$ etc. are called the _moduli_ of the equation.\n",
    "\n",
    "The specific values of the moduli are not important, it only matters whether they are zero (p. 65):\n",
    "non-zero moduli determine the cases that cannot occur.\n",
    "In the code we therefore normalize all non-zero moduli to $1$.\n",
    "This gives us a unique normalized representation of each equation, a proto-truth table."
   ]
  },
  {
   "cell_type": "code",
   "execution_count": 7,
   "id": "incomplete-novelty",
   "metadata": {},
   "outputs": [
    {
     "name": "stdout",
     "output_type": "stream",
     "text": [
      "Original equation: x = xy\n",
      "Normalized version: x(1-y) = 0\n"
     ]
    }
   ],
   "source": [
    "import itertools\n",
    "\n",
    "\n",
    "class Equation:\n",
    "    def __init__(self, symbols: List[Symbol], moduli: Dict[List[int], int]):\n",
    "        self.symbols = symbols\n",
    "        self.moduli = moduli\n",
    "\n",
    "    def __repr__(self):\n",
    "        terms = []\n",
    "        for values, modulus in self.moduli.items():\n",
    "            # If the modulus is zero, the whole term is zero.\n",
    "            if modulus != 0:\n",
    "                term = \"\"\n",
    "                for (symbol, value) in zip(self.symbols, values):\n",
    "                    if value == 1:\n",
    "                        term += symbol\n",
    "                    else:\n",
    "                        term += f\"(1-{symbol})\"\n",
    "\n",
    "                terms.append(term)\n",
    "\n",
    "        if len(terms) == 0:\n",
    "            return \"0 = 0\"\n",
    "        else:\n",
    "            return \" + \".join(terms) + \" = 0\"\n",
    "\n",
    "def create_normalized_equation(lhs: Function, rhs: Function, symbols: List[Symbol]):\n",
    "#     print(f\"  normalizing: {lhs} = {rhs}\")\n",
    "    moduli = dict()\n",
    "\n",
    "    for values in itertools.product([0, 1], repeat=len(symbols)):\n",
    "        value_map = dict(zip(symbols, values))  # e.g. {\"x\": True, \"y\": False}\n",
    "\n",
    "        # We get the desired phi(xyz) = 0 form by subtracting the RHS.\n",
    "        if lhs(value_map) - rhs(value_map) == 0:\n",
    "            moduli[values] = 0\n",
    "        else:\n",
    "            moduli[values] = 1\n",
    "    \n",
    "    return Equation(symbols, moduli)\n",
    "\n",
    "lhs = parse(\"x\")\n",
    "rhs = parse(\"xy\")\n",
    "\n",
    "all_xs_are_ys = create_normalized_equation(lhs, rhs, [\"x\", \"y\"])\n",
    "\n",
    "print(f\"Original equation: {lhs} = {rhs}\")\n",
    "print(f\"Normalized version:\", all_xs_are_ys)"
   ]
  },
  {
   "cell_type": "markdown",
   "id": "speaking-trade",
   "metadata": {},
   "source": [
    "Notice that the normalized version is actually the form obtained by Boole on p. 21, the example discussed before.\n",
    "\n",
    "## Syllogisms\n",
    "\n",
    "Boole himself chooses to represent syllogisms by eliminating a variable (the middle term) from a system of equations.\n",
    "Here we present a more computer-friendly view of the problem.\n",
    "We will obtain the conclusion in two steps:\n",
    "1. Create a single equation expressing the conjunction of the two premises. When the equations are in their normalized form, this can be done by simply adding both together and renormalizing if needed. Since the normalized form lists the impossible cases, adding the equations performs a union of the sets of impossible cases.\n",
    "2. Eliminate the middle term - to be discussed later.\n",
    "\n",
    "This is perhaps clearer in code:"
   ]
  },
  {
   "cell_type": "code",
   "execution_count": 8,
   "id": "bulgarian-rwanda",
   "metadata": {},
   "outputs": [
    {
     "name": "stdout",
     "output_type": "stream",
     "text": [
      "\"All Ys are Xs\" and \"All Zs are Ys\" together imply: (1-x)(1-y)z + (1-x)y(1-z) + (1-x)yz + x(1-y)z = 0\n"
     ]
    }
   ],
   "source": [
    "def equation_conjunction(a: Equation, b: Equation):\n",
    "    assert a.symbols == b.symbols  # We must operate on the same symbols.\n",
    "    \n",
    "    moduli = dict()\n",
    "\n",
    "    for key in a.moduli:\n",
    "        if a.moduli[key] == 1 or b.moduli[key] == 1:\n",
    "            moduli[key] = 1\n",
    "        else:\n",
    "            moduli[key] = 0\n",
    "    \n",
    "    return Equation(a.symbols, moduli)\n",
    "\n",
    "all_ys_are_xs = create_normalized_equation(\n",
    "    parse(\"y\"), parse(\"xy\"),\n",
    "    [\"x\", \"y\", \"z\"],\n",
    ")\n",
    "\n",
    "all_zs_are_ys = create_normalized_equation(\n",
    "    parse(\"z\"), parse(\"yz\"),\n",
    "    [\"x\", \"y\", \"z\"],\n",
    ")\n",
    "\n",
    "conclusion = equation_conjunction(all_ys_are_xs, all_zs_are_ys)\n",
    "\n",
    "print(\n",
    "    '\"All Ys are Xs\" and \"All Zs are Ys\" together imply:',\n",
    "    conclusion,\n",
    ")"
   ]
  },
  {
   "cell_type": "markdown",
   "id": "naval-beatles",
   "metadata": {},
   "source": [
    "The expected conclusion of this _barbara_ syllogism is \"All Zs are Xs\", or $z(1-x) = 0$. Why did we obtain this complicated expression?\n",
    "\n",
    "The reason is that we did not eliminate the middle term. We need an expression in which $y$ does not appear.\n",
    "This amounts to determining which cases are certainly impossible, no matter the value of the middle term.\n",
    "For instance, above there is a term $(1-x)y(1-z)$, but the case of $x=0$, $z=0$ still cannot be ruled out: it is not valid when $y=1$, but _is_ when $y=1$.\n",
    "The only case we can rule out is $x=0$, $z=1$."
   ]
  },
  {
   "cell_type": "code",
   "execution_count": 9,
   "id": "equivalent-deficit",
   "metadata": {},
   "outputs": [
    {
     "name": "stdout",
     "output_type": "stream",
     "text": [
      "Eliminating y from the conclusion above: (1-x)z = 0\n"
     ]
    }
   ],
   "source": [
    "def eliminate_symbol(eq: Equation, symbol: Symbol):\n",
    "    eliminated_count = dict()\n",
    "\n",
    "    for values, modulus in eq.moduli.items():\n",
    "        # Remove the value of the symbol being eliminated.\n",
    "        values2 = list(values)\n",
    "        values2.pop(eq.symbols.index(symbol))\n",
    "        values2 = tuple(values2)\n",
    "\n",
    "        if values2 not in eliminated_count:\n",
    "            eliminated_count[values2] = 0\n",
    "        \n",
    "        if modulus == 1:\n",
    "            eliminated_count[values2] += 1\n",
    "    \n",
    "    # For the example above, eliminated_count will now be:\n",
    "    # {(0, 0): 1, (0, 1): 2, (1, 0): 1, (1, 1): 0}\n",
    "\n",
    "    moduli = dict()\n",
    "    for values, count in eliminated_count.items():\n",
    "        moduli[values] = 1 if count == 2 else 0\n",
    "\n",
    "    # We don't want the eliminated symbol in the list.\n",
    "    symbols2 = eq.symbols.copy()\n",
    "    symbols2.pop(eq.symbols.index(symbol))\n",
    "    \n",
    "    return Equation(symbols2, moduli)\n",
    "\n",
    "print(\n",
    "    \"Eliminating y from the conclusion above:\",\n",
    "    eliminate_symbol(conclusion, \"y\")\n",
    ")"
   ]
  },
  {
   "cell_type": "markdown",
   "id": "contrary-water",
   "metadata": {},
   "source": [
    "And indeed, $(1-x)z = 0$ is the conclusion Boole reached with his method.\n",
    "\n",
    "But this was the simplest case.\n",
    "Let us now consider a more complex case of premises \"All Ys are Xs\" and \"No Zs are Ys\" (p. 35).\n",
    "The expected conclusion is \"Some Xs are not Zs\".\n",
    "If we apply our method directly, we get:"
   ]
  },
  {
   "cell_type": "code",
   "execution_count": 10,
   "id": "rotary-durham",
   "metadata": {},
   "outputs": [
    {
     "name": "stdout",
     "output_type": "stream",
     "text": [
      "Before elimination: (1-x)y(1-z) + (1-x)yz + xyz = 0\n",
      "After elimination: 0 = 0\n"
     ]
    }
   ],
   "source": [
    "no_zs_are_ys = create_normalized_equation(\n",
    "    parse(\"yz\"), parse(\"0\"),\n",
    "    [\"x\", \"y\", \"z\"],\n",
    ")\n",
    "\n",
    "# we have `all_ys_are_xs` from before\n",
    "conclusion = equation_conjunction(all_ys_are_xs, no_zs_are_ys)\n",
    "print(\"Before elimination:\", conclusion)\n",
    "\n",
    "conclusion = eliminate_symbol(conclusion, \"y\")\n",
    "print(\"After elimination:\", conclusion)"
   ]
  },
  {
   "cell_type": "markdown",
   "id": "binary-monitoring",
   "metadata": {},
   "source": [
    "Alas, $0=0$ is a tautology so we have not learned anything. What happened?\n",
    "\n",
    "The problem is that currently we have no way to express \"Some Xs\".\n",
    "To fix this, we can simply use Boole's own device: write \"All Ys are Xs\" as $y=vx$, $v$ being an auxilliary variable that represents a part of all Xs."
   ]
  },
  {
   "cell_type": "code",
   "execution_count": 11,
   "id": "suspected-darwin",
   "metadata": {},
   "outputs": [
    {
     "name": "stdout",
     "output_type": "stream",
     "text": [
      "Before elimination: (1-x)(1-y)(1-z)v + (1-x)(1-y)zv + (1-x)y(1-z)(1-v) + (1-x)y(1-z)v + (1-x)yz(1-v) + (1-x)yzv + x(1-y)(1-z)v + x(1-y)zv + xy(1-z)(1-v) + xyz(1-v) + xyzv = 0\n",
      "After elimination: (1-x)(1-z)v + (1-x)zv + xzv = 0\n"
     ]
    }
   ],
   "source": [
    "all_ys_are_xs_v = create_normalized_equation(\n",
    "    parse(\"y\"), parse(\"vx\"),\n",
    "    [\"x\", \"y\", \"z\", \"v\"],  # We need to add the \"v\" variable.\n",
    ")\n",
    "\n",
    "no_zs_are_ys_v = create_normalized_equation(\n",
    "    parse(\"yz\"), parse(\"0\"),\n",
    "    [\"x\", \"y\", \"z\", \"v\"],\n",
    ")\n",
    "\n",
    "aux = create_normalized_equation(\n",
    "    parse(\"v(1-x)\"), parse(\"0\"),\n",
    "    [\"x\", \"y\", \"z\", \"v\"],\n",
    ")\n",
    "\n",
    "conclusion = equation_conjunction(all_ys_are_xs_v, no_zs_are_ys_v)\n",
    "conclusion = equation_conjunction(conclusion, aux)\n",
    "print(\"Before elimination:\", conclusion)\n",
    "\n",
    "conclusion = eliminate_symbol(conclusion, \"y\")\n",
    "print(\"After elimination:\", conclusion)"
   ]
  },
  {
   "cell_type": "markdown",
   "id": "soviet-saskatchewan",
   "metadata": {},
   "source": [
    "This is equal to Boole's own conclusion (p. 35), interpreted as \"Some Xs are not Zs\".\n",
    "He additionally stresses that the interpretation \"Some Zs are not Xs\" is not possible:\n",
    "\"the interpretation of $vx$ is fixed, as Some Xs; $v$ is regarded as the representative of Some, only with reference to the class X.\"\n",
    "I find this explanation confusing, but the point is that $v$ is implicitly defined a part of $x$, whereas it does not have to be fully contained in $z$.\n",
    "\n",
    "Finally, consider a case where no inference is possible: \"All Ys are Xs\" and \"Some Zs are not Ys\" (p. 38)."
   ]
  },
  {
   "cell_type": "code",
   "execution_count": 12,
   "id": "broadband-uncle",
   "metadata": {},
   "outputs": [
    {
     "name": "stdout",
     "output_type": "stream",
     "text": [
      "Before elimination: (1-x)(1-y)(1-z)v + (1-x)y(1-z)(1-v) + (1-x)y(1-z)v + (1-x)yz(1-v) + (1-x)yzv + x(1-y)(1-z)v + xyzv = 0\n",
      "After elimination: (1-x)(1-z)v = 0\n"
     ]
    }
   ],
   "source": [
    "all_ys_are_xs_v = create_normalized_equation(\n",
    "    parse(\"y\"), parse(\"yx\"),\n",
    "    [\"x\", \"y\", \"z\", \"v\"],\n",
    ")\n",
    "\n",
    "some_zs_are_not_ys_v = create_normalized_equation(\n",
    "    parse(\"vz\"), parse(\"v(1-y)\"),\n",
    "    [\"x\", \"y\", \"z\", \"v\"],\n",
    ")\n",
    "\n",
    "conclusion = equation_conjunction(all_ys_are_xs_v, some_zs_are_not_ys_v)\n",
    "print(\"Before elimination:\", conclusion)\n",
    "\n",
    "conclusion = eliminate_symbol(conclusion, \"y\")\n",
    "print(\"After elimination:\", conclusion)"
   ]
  },
  {
   "cell_type": "markdown",
   "id": "developed-bulgaria",
   "metadata": {},
   "source": [
    "We again matched Boole's result. Boole additionally reduces to $0=0$ by noting that $v(1-z) = 0$, a an auxilliary equation in the usage of $v$ as \"Some Zs\".\n",
    "This reduction is difficult to reproduce in the present system: if we add the equation $v(1-z) = 0$ to the system,\n",
    "we obtain\n",
    "$$\n",
    "(1-x)(1-z)v + x(1-z)v = 0\n",
    "$$\n",
    "which is the same as $(1-z)v = 0$, the auxilliary equation itself.\n",
    "We do not obtain $0=0$ because this system cannot express that $v(1-z) = 0$ is an assumption.\n",
    "The result it produces is simply the strongest conclusion it can infer from the equation(s) it was given.\n",
    "\n",
    "## Conclusion\n",
    "\n",
    "We investigated the relationship between Boole's elective equations and standard elective equations.\n",
    "The findings allowed us to implement Boole's system in Python and use it to perform syllogistic reasoning.\n",
    "Our implementation uses a different approach to syllogisms than Boole, reducing the system of two equations to a single one.\n",
    "However, the general procedure is still firmly grounded in Boole's system."
   ]
  },
  {
   "cell_type": "code",
   "execution_count": null,
   "id": "voluntary-tobacco",
   "metadata": {},
   "outputs": [],
   "source": []
  }
 ],
 "metadata": {
  "kernelspec": {
   "display_name": "Python 3",
   "language": "python",
   "name": "python3"
  },
  "language_info": {
   "codemirror_mode": {
    "name": "ipython",
    "version": 3
   },
   "file_extension": ".py",
   "mimetype": "text/x-python",
   "name": "python",
   "nbconvert_exporter": "python",
   "pygments_lexer": "ipython3",
   "version": "3.8.8"
  }
 },
 "nbformat": 4,
 "nbformat_minor": 5
}
